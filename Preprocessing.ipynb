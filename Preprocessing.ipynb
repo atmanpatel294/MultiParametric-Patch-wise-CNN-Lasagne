{
 "cells": [
  {
   "cell_type": "code",
   "execution_count": 12,
   "metadata": {
    "collapsed": false
   },
   "outputs": [],
   "source": [
    "import matplotlib.pyplot as plt\n",
    "%matplotlib inline\n",
    "import os\n",
    "import numpy as np\n",
    "import glob"
   ]
  },
  {
   "cell_type": "markdown",
   "metadata": {},
   "source": [
    "## Normalize Data"
   ]
  },
  {
   "cell_type": "code",
   "execution_count": 56,
   "metadata": {
    "collapsed": true
   },
   "outputs": [],
   "source": [
    "def normalizeData(all_slices):\n",
    "    for i in range(6):\n",
    "        M = all_slices[:,:,i].max().astype(int)\n",
    "        m = all_slices[:,:,i].min().astype(int)\n",
    "        all_slices[:,:,i] = (all_slices[:,:,i].astype(int) - m) / (M-m)\n",
    "    return all_slices"
   ]
  },
  {
   "cell_type": "markdown",
   "metadata": {},
   "source": [
    "## Load Data"
   ]
  },
  {
   "cell_type": "code",
   "execution_count": 87,
   "metadata": {
    "collapsed": true
   },
   "outputs": [],
   "source": [
    "# Loads all the files in given directory\n",
    "def loadAllSlices(path_to_files, norm=True):\n",
    "    #1. count the number of files\n",
    "    fileNames = glob.glob(path_to_files + '/*')               #next(os.walk(path_to_files))[2]\n",
    "    temp = np.load(path_to_files + '/Data0.npy')\n",
    "    arraySize = temp.shape\n",
    "    \n",
    "    #2. Make an empty array Data of same size\n",
    "    Data = np.zeros((len(fileNames), arraySize[0], arraySize[1], arraySize[2]))\n",
    "    \n",
    "    #3. Run a loop and insert all files into data\n",
    "    count = 0\n",
    "    for filename in fileNames:\n",
    "        Data[count] = np.load(filename)\n",
    "        count += 1\n",
    "    \n",
    "    if(norm):\n",
    "        for i in range(len(Data)):\n",
    "            Data[i] = normalizeData(Data[i])\n",
    "    \n",
    "    return Data"
   ]
  },
  {
   "cell_type": "code",
   "execution_count": 94,
   "metadata": {
    "collapsed": true
   },
   "outputs": [],
   "source": [
    "# Loads only specific files containing the file number passed in sliceNums argument\n",
    "def loadTheseSlices(path_to_files, sliceNums, norm=True):\n",
    "    #1. count the number of files\n",
    "    fileNames = [path_to_files+'/Data{}.npy'.format(i) for i in sliceNums]\n",
    "    temp = np.load(path_to_files + '/Data0.npy')\n",
    "    arraySize = temp.shape\n",
    "    \n",
    "    #2. Make an empty array Data of same size\n",
    "    Data = np.zeros((len(fileNames), arraySize[0], arraySize[1], arraySize[2]))\n",
    "    \n",
    "    #3. Run a loop and insert all files into data\n",
    "    count = 0\n",
    "    for filename in fileNames:\n",
    "        Data[count] = np.load(filename)\n",
    "        count += 1\n",
    "#     if(norm):\n",
    "#         for i in range(len(Data)):\n",
    "#             Data[i] = normalizeData(Data[i])\n",
    "\n",
    "    \n",
    "    return Data"
   ]
  },
  {
   "cell_type": "code",
   "execution_count": 95,
   "metadata": {
    "collapsed": false
   },
   "outputs": [],
   "source": []
  },
  {
   "cell_type": "code",
   "execution_count": null,
   "metadata": {
    "collapsed": true
   },
   "outputs": [],
   "source": []
  }
 ],
 "metadata": {
  "kernelspec": {
   "display_name": "Python 3",
   "language": "python",
   "name": "python3"
  },
  "language_info": {
   "codemirror_mode": {
    "name": "ipython",
    "version": 3
   },
   "file_extension": ".py",
   "mimetype": "text/x-python",
   "name": "python",
   "nbconvert_exporter": "python",
   "pygments_lexer": "ipython3",
   "version": "3.4.5"
  }
 },
 "nbformat": 4,
 "nbformat_minor": 2
}
